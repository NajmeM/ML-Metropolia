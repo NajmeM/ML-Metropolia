{
 "cells": [
  {
   "cell_type": "code",
   "execution_count": 1,
   "metadata": {
    "id": "p_RvMaHbx73P"
   },
   "outputs": [
    {
     "ename": "ModuleNotFoundError",
     "evalue": "No module named 'tensorflow'",
     "output_type": "error",
     "traceback": [
      "\u001b[0;31m---------------------------------------------------------------------------\u001b[0m",
      "\u001b[0;31mModuleNotFoundError\u001b[0m                       Traceback (most recent call last)",
      "Cell \u001b[0;32mIn[1], line 4\u001b[0m\n\u001b[1;32m      2\u001b[0m \u001b[38;5;28;01mimport\u001b[39;00m \u001b[38;5;21;01mmatplotlib\u001b[39;00m\u001b[38;5;21;01m.\u001b[39;00m\u001b[38;5;21;01mpyplot\u001b[39;00m \u001b[38;5;28;01mas\u001b[39;00m \u001b[38;5;21;01mplt\u001b[39;00m\n\u001b[1;32m      3\u001b[0m \u001b[38;5;28;01mimport\u001b[39;00m \u001b[38;5;21;01mmath\u001b[39;00m\n\u001b[0;32m----> 4\u001b[0m \u001b[38;5;28;01mimport\u001b[39;00m \u001b[38;5;21;01mtensorflow\u001b[39;00m \u001b[38;5;28;01mas\u001b[39;00m \u001b[38;5;21;01mtf\u001b[39;00m\n\u001b[1;32m      6\u001b[0m \u001b[38;5;28;01mfrom\u001b[39;00m \u001b[38;5;21;01mtensorflow\u001b[39;00m \u001b[38;5;28;01mimport\u001b[39;00m keras\n\u001b[1;32m      7\u001b[0m \u001b[38;5;28;01mfrom\u001b[39;00m \u001b[38;5;21;01mtensorflow\u001b[39;00m\u001b[38;5;21;01m.\u001b[39;00m\u001b[38;5;21;01mkeras\u001b[39;00m \u001b[38;5;28;01mimport\u001b[39;00m layers\n",
      "\u001b[0;31mModuleNotFoundError\u001b[0m: No module named 'tensorflow'"
     ]
    }
   ],
   "source": [
    "import numpy as np\n",
    "import matplotlib.pyplot as plt\n",
    "import math\n",
    "import tensorflow as tf\n",
    "\n",
    "from tensorflow import keras\n",
    "from tensorflow.keras import layers\n",
    "\n",
    "from sklearn.preprocessing import StandardScaler\n",
    "from sklearn.model_selection import train_test_split\n",
    "from sklearn.utils import shuffle"
   ]
  },
  {
   "cell_type": "code",
   "execution_count": 12,
   "metadata": {
    "colab": {
     "base_uri": "https://localhost:8080/"
    },
    "id": "JQRArZHcx6iH",
    "outputId": "49240426-105e-47a7-a904-0acc01e54c84"
   },
   "outputs": [
    {
     "name": "stdout",
     "output_type": "stream",
     "text": [
      "(60000, 784)\n",
      "(10000, 784)\n",
      "(60000, 10)\n",
      "(10000, 10)\n"
     ]
    }
   ],
   "source": [
    "from tensorflow.keras.datasets import fashion_mnist\n",
    "\n",
    "(x_train, y_train), (x_val, y_val) = fashion_mnist.load_data()\n",
    "\n",
    "x_train = x_train.reshape(-1, 28 * 28).astype('float32') / 255.0\n",
    "x_val = x_val.reshape(-1, 28 * 28).astype('float32') / 255.0\n",
    "\n",
    "y_train_cat = keras.utils.to_categorical(y_train)\n",
    "y_val_cat = keras.utils.to_categorical(y_val)\n",
    "\n",
    "print(x_train.shape)\n",
    "print(x_val.shape)\n",
    "print(y_train_cat.shape)\n",
    "print(y_val_cat.shape)"
   ]
  },
  {
   "cell_type": "markdown",
   "metadata": {
    "id": "TVAjF3rBykDi"
   },
   "source": [
    "# Task 1\n",
    "\n",
    "Define one-layer model for fashion-mnist classification, train it for 15 epochs and plot training and validation accuracy asa function of epoch (you can copy this part from the example notebook)."
   ]
  },
  {
   "cell_type": "code",
   "execution_count": 13,
   "metadata": {
    "id": "i372ryunyiRe"
   },
   "outputs": [],
   "source": [
    "# your code here"
   ]
  },
  {
   "cell_type": "markdown",
   "metadata": {
    "id": "mdc9_7L40t-H"
   },
   "source": [
    "## Answer 1\n",
    "\n",
    "Your findings compared to mnist data set here."
   ]
  },
  {
   "cell_type": "markdown",
   "metadata": {
    "id": "NyQ3nx0T01Ua"
   },
   "source": [
    "# Task 2\n",
    "\n",
    "Define five-layer model for fashion-mnist classification, train it for 15 epochs and plot training and validation accuracy asa function of epoch (you can copy this part from the example notebook)."
   ]
  },
  {
   "cell_type": "code",
   "execution_count": 14,
   "metadata": {
    "id": "DcUB2rk71EZh"
   },
   "outputs": [],
   "source": [
    "# your code here"
   ]
  },
  {
   "cell_type": "markdown",
   "metadata": {
    "id": "ZuhSVhJe1HY7"
   },
   "source": [
    "# Answer 2\n",
    "\n",
    "Your findings compared to mnist data set here."
   ]
  },
  {
   "cell_type": "markdown",
   "metadata": {
    "id": "AQyhByUT1J_f"
   },
   "source": [
    "# Task 3\n",
    "\n",
    "Try out batch normalisation for the five-layer model and report your findings."
   ]
  },
  {
   "cell_type": "code",
   "execution_count": 15,
   "metadata": {
    "id": "M0V5PX5Q1zIe"
   },
   "outputs": [],
   "source": [
    "# your code here"
   ]
  },
  {
   "cell_type": "markdown",
   "metadata": {
    "id": "gfps3ORG2DC6"
   },
   "source": [
    "# Answer 3\n",
    "\n",
    "Your findings here"
   ]
  },
  {
   "cell_type": "markdown",
   "metadata": {
    "id": "F8jG09hx11jT"
   },
   "source": [
    "# Task 4\n",
    "\n",
    "Try out at least two combinations of number and width of layers and report your findings."
   ]
  },
  {
   "cell_type": "code",
   "execution_count": 16,
   "metadata": {
    "id": "J0jTnRWx2PwA"
   },
   "outputs": [],
   "source": [
    "# your code here"
   ]
  },
  {
   "cell_type": "markdown",
   "metadata": {
    "id": "7oEuz4kB2PwB"
   },
   "source": [
    "# Answer 4\n",
    "\n",
    "Your findings here"
   ]
  },
  {
   "cell_type": "markdown",
   "metadata": {
    "id": "cNtWi_mX2Udd"
   },
   "source": [
    "# Task 5\n",
    "\n",
    "Try out at least two regularisation techniques and report your findings."
   ]
  },
  {
   "cell_type": "code",
   "execution_count": 17,
   "metadata": {
    "id": "9123dBxP2RXw"
   },
   "outputs": [],
   "source": [
    "# your code here"
   ]
  },
  {
   "cell_type": "markdown",
   "metadata": {
    "id": "xUd9E_0o2RXw"
   },
   "source": [
    "# Answer 5\n",
    "\n",
    "Your findings here"
   ]
  }
 ],
 "metadata": {
  "colab": {
   "provenance": []
  },
  "kernelspec": {
   "display_name": "Python 3 (ipykernel)",
   "language": "python",
   "name": "python3"
  },
  "language_info": {
   "codemirror_mode": {
    "name": "ipython",
    "version": 3
   },
   "file_extension": ".py",
   "mimetype": "text/x-python",
   "name": "python",
   "nbconvert_exporter": "python",
   "pygments_lexer": "ipython3",
   "version": "3.12.3"
  }
 },
 "nbformat": 4,
 "nbformat_minor": 1
}
