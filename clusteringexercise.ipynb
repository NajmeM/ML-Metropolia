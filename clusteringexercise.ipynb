{
 "cells": [
  {
   "cell_type": "markdown",
   "metadata": {
    "id": "wB0AcNQnYXlA"
   },
   "source": [
    "### Clustering Analysis: Salary, Housecare Time, Height, and Weight  \n",
    "\n",
    "### **Objective**  \n",
    "The goal of this exercise is to cluster individuals based on salary, housecare time, height, and weight using **KMeans** and **Gaussian Mixture Models (GMM)**. After clustering, the results are analyzed against real labels (M/F) to evaluate performance.  \n",
    "\n",
    "\n",
    "### **Key Steps & Findings**  \n",
    "\n",
    "#### **Step 1: Data Preprocessing**  \n",
    "- **Dataset**: `exercise5.csv`\n",
    "- **Shape**: (51, 5)  \n",
    "- **Preprocessing**:  \n",
    "  - Extracted features (`x`) and labels (`y`).\n",
    "  - Standardized features using `StandardScaler` to improve clustering accuracy.\n",
    "\n",
    "#### **Step 2: KMeans Clustering**  \n",
    "- **Number of Clusters**: 2  \n",
    "- **Cluster Centers (Inverse Transformed)**:  \n",
    "  - **Cluster 0**: Higher salaries, less housecare time, taller, heavier individuals.  \n",
    "  - **Cluster 1**: Lower salaries, more housecare time, shorter, lighter individuals.  \n",
    "- **Comparison with Class (M/F) Data**:  \n",
    "  - Cluster 1 aligns with **females** (lower salary, more housecare).  \n",
    "  - Cluster 0 aligns with **males** (higher salary, less housecare).  \n",
    "  - Clusters match class means closely.\n",
    "\n",
    "#### **Step 3: Gaussian Mixture Model (GMM) Clustering**  \n",
    "- **Soft Clustering Approach**  \n",
    "- **Cluster Centers (Inverse Transformed)**:  \n",
    "  - Similar trends to KMeans but slightly different distributions.  \n",
    "  - **GMM Cluster 1** (more housecare, lower salary) matches **females**.  \n",
    "  - **GMM Cluster 0** (less housecare, higher salary) matches **males**.  \n",
    "- **Comparison with KMeans**:  \n",
    "  - GMM allows overlapping clusters, leading to a smoother separation.  \n",
    "  - Results are nearly identical to KMeans but provide more flexibility.\n",
    "\n",
    "#### **Step 4: Result Analysis & Interpretation**  \n",
    "1. **Purpose of `scaler.inverse_transform()`**  \n",
    "   - Converts scaled values back to original scale for better interpretability.  \n",
    "   - Avoiding it makes the output unreadable.  \n",
    "   \n",
    "2. **Cluster-Female Label Matching**  \n",
    "   - **Cluster 2 (KMeans) and Cluster 1 (GMM) correspond to females.**  \n",
    "   - Labels should not necessarily match in general, as clustering is unsupervised.  \n",
    "   - If there were more than two clusters, this distinction could be more nuanced.  \n",
    "\n",
    "3. **Comparison of Clustering vs. Real Data**  \n",
    "   - Small differences exist in **salary** and **housecare time** between clustered and actual class means.  \n",
    "   - Overall, clustering aligns well with gender differences in the dataset.  \n",
    "\n",
    "---\n",
    "\n",
    "### **Conclusion**  \n",
    "- **KMeans and GMM both successfully separated individuals into two meaningful clusters.**  \n",
    "- **Clusters closely match actual gender-based differences in salary and housecare time.**  \n",
    "- **GMM offers more flexibility but yields similar results to KMeans in this case.**  \n",
    "- **The clustering approach is effective for distinguishing groups based on lifestyle factors.**\n",
    "\n"
   ]
  },
  {
   "cell_type": "markdown",
   "metadata": {
    "id": "zfnp8xaJYXlC",
    "nbgrader": {
     "grade": false,
     "grade_id": "cell-9be32c3a22d51f62",
     "locked": true,
     "schema_version": 3,
     "solution": false,
     "task": false
    }
   },
   "source": [
    "### Exercise: Clustering\n",
    "\n",
    "File exercise5.csv contains synthetic data about salary, housecare time, height and weight of some individuals. It also contains an indicator variable M/F to indicate whether the individual in question is female/male. In this exercise you should try out both KMeans and GaussianMixture (note: we will discuss GMM in 27th Nov meeting but you can get started with the exercise now) to cluster the individuals based on salary, housecare time, height and weight (ie. don't use the M/F information in clustering).\n",
    "\n",
    "After clustering, try and analyse how well the clustering worked out by comparing statistics of the clusters with statistics calculated from the data (in this step you can use the M/F indicator variable)."
   ]
  },
  {
   "cell_type": "code",
   "execution_count": 13,
   "metadata": {
    "id": "8H8ILQiGYXlD"
   },
   "outputs": [],
   "source": [
    "import numpy as np\n",
    "from numpy import genfromtxt\n",
    "import matplotlib.pyplot as plt\n",
    "from sklearn.preprocessing import StandardScaler\n",
    "from sklearn.model_selection import train_test_split\n",
    "from sklearn.decomposition import PCA\n",
    "from sklearn.svm import SVC\n",
    "from sklearn.svm import LinearSVC\n",
    "from sklearn.linear_model import LogisticRegression\n",
    "from sklearn.cluster import KMeans\n",
    "from scipy.stats import norm\n",
    "import math\n",
    "from sklearn.mixture import GaussianMixture\n",
    "from sklearn.linear_model import LinearRegression\n",
    "from scipy.stats import multivariate_normal\n",
    "from sklearn.discriminant_analysis import LinearDiscriminantAnalysis"
   ]
  },
  {
   "cell_type": "markdown",
   "metadata": {
    "id": "wFk0yYJLYXlF"
   },
   "source": [
    "#### Step 1: Read input (1p)\n",
    "\n",
    "Read in the dataset in exercise3.csv. Check genfromtxt() documentation and choose right delimiter and skip_header parameter values."
   ]
  },
  {
   "cell_type": "code",
   "execution_count": 14,
   "metadata": {
    "colab": {
     "base_uri": "https://localhost:8080/"
    },
    "id": "-UV2qeRNYXlF",
    "nbgrader": {
     "grade": false,
     "grade_id": "cell-69ef15d7d8c724d7",
     "locked": false,
     "schema_version": 3,
     "solution": true,
     "task": false
    },
    "outputId": "b2f85e63-d99d-4d1a-dc7e-521b03032c43"
   },
   "outputs": [
    {
     "name": "stdout",
     "output_type": "stream",
     "text": [
      "(51, 5)\n"
     ]
    }
   ],
   "source": [
    "data = genfromtxt('clustering.csv' , delimiter= ',', skip_header=1)\n",
    "print(data.shape)"
   ]
  },
  {
   "cell_type": "code",
   "execution_count": 15,
   "metadata": {
    "id": "JYlmCq6eYXlF",
    "nbgrader": {
     "grade": true,
     "grade_id": "cell-afbe3c9a43536b5e",
     "locked": true,
     "points": 1,
     "schema_version": 3,
     "solution": false,
     "task": false
    }
   },
   "outputs": [],
   "source": [
    "assert(data.shape[1] == 5)"
   ]
  },
  {
   "cell_type": "markdown",
   "metadata": {
    "id": "iW0Azd5KYXlG"
   },
   "source": [
    "#### Step 2: Scale (1p)"
   ]
  },
  {
   "cell_type": "code",
   "execution_count": 30,
   "metadata": {
    "id": "3FUhTyxzYXlH",
    "nbgrader": {
     "grade": false,
     "grade_id": "cell-9444d8ce33604abd",
     "locked": false,
     "schema_version": 3,
     "solution": true,
     "task": false
    }
   },
   "outputs": [],
   "source": [
    "# assign to x the data excluding class info (last column) that gets assigned to y\n",
    "# scale x data (assign scaler object to variable scaler) and assign to scaled_x\n",
    "\n",
    "x = data[:, :-1]\n",
    "y = data[:, -1]\n",
    "scaler = StandardScaler().fit(x)\n",
    "scaled_x = scaler.transform(x)"
   ]
  },
  {
   "cell_type": "code",
   "execution_count": 17,
   "metadata": {
    "id": "tzbF0C9PYXlH",
    "nbgrader": {
     "grade": true,
     "grade_id": "cell-890bacfb6f07417f",
     "locked": true,
     "points": 1,
     "schema_version": 3,
     "solution": false,
     "task": false
    }
   },
   "outputs": [],
   "source": [
    "# if this cell passes silently, data shapes are ok\n",
    "assert(x.shape[1] == 4)\n",
    "assert(y.shape[0] == 51)"
   ]
  },
  {
   "cell_type": "markdown",
   "metadata": {
    "id": "WtkB6a77YXlI"
   },
   "source": [
    "#### Step 3: KMeans clustering (2p)\n",
    "\n",
    "Cluster the data with KMeans. Assign the fitted KMeans object to variable kmeans. Compute per cluster means and compare with from sample data."
   ]
  },
  {
   "cell_type": "code",
   "execution_count": 23,
   "metadata": {
    "colab": {
     "base_uri": "https://localhost:8080/",
     "height": 522
    },
    "id": "dw58CVLaYXlJ",
    "nbgrader": {
     "grade": false,
     "grade_id": "cell-10048fd3ed865ae6",
     "locked": false,
     "schema_version": 3,
     "solution": true,
     "task": false
    },
    "outputId": "3dd8f194-1192-47ad-8713-f14336a34e1c"
   },
   "outputs": [
    {
     "data": {
      "image/png": "[encoded data removed]",
      "text/plain": [
       "<Figure size 1000x600 with 1 Axes>"
      ]
     },
     "metadata": {},
     "output_type": "display_data"
    }
   ],
   "source": [
    "n_clusters = 2\n",
    "kmeans = KMeans(n_clusters=n_clusters, random_state=0).fit(scaled_x)\n",
    "cluster_centers = scaler.inverse_transform(kmeans.cluster_centers_)\n",
    "\n",
    "plt.figure(figsize=(10,6))\n",
    "plt.plot(kmeans.cluster_centers_[:,0], kmeans.cluster_centers_[:,1], 'ro', label='Cluster Centers')\n",
    "\n",
    "\n",
    "y = kmeans.labels_\n",
    "for c in range(n_clusters):\n",
    "    plt.plot(scaled_x[y==c,0], scaled_x[y==c,1], 'x')\n",
    "\n",
    "plt.show()"
   ]
  },
  {
   "cell_type": "code",
   "execution_count": 24,
   "metadata": {
    "colab": {
     "base_uri": "https://localhost:8080/"
    },
    "id": "cjOZW-GOYXlJ",
    "outputId": "4752de47-e9d0-43f4-9938-356d4c30eb4d"
   },
   "outputs": [
    {
     "name": "stdout",
     "output_type": "stream",
     "text": [
      "Cluster 0 means [3129.21428571  153.57142857  174.85714286   79.21428571]\n",
      "Cluster 1 means [2660.39130435  244.95652174  159.34782609   69.2173913 ]\n"
     ]
    }
   ],
   "source": [
    "# print out feature means for the clusters\n",
    "print(\"Cluster 0 means\", np.mean(scaler.inverse_transform(scaled_x[kmeans.labels_ == 0]),axis=0))\n",
    "print(\"Cluster 1 means\", np.mean(scaler.inverse_transform(scaled_x[kmeans.labels_ == 1]),axis=0))"
   ]
  },
  {
   "cell_type": "code",
   "execution_count": 32,
   "metadata": {
    "colab": {
     "base_uri": "https://localhost:8080/"
    },
    "id": "3eGjDg8841Ex",
    "outputId": "25e17f6f-c0c4-4bca-c0e5-c2f023fdf56c"
   },
   "outputs": [
    {
     "data": {
      "text/plain": [
       "(array([557.87316033,  39.1503701 ,   7.5780944 ,  14.67618931]),\n",
       " array([555.32039905,  44.69534204,   6.78987481,  12.97690256]),\n",
       " array([2799.19230769,  239.69230769,  160.26923077,   70.38461538]),\n",
       " array([3041.12,  148.08,  175.76,   79.2 ]))"
      ]
     },
     "execution_count": 32,
     "metadata": {},
     "output_type": "execute_result"
    }
   ],
   "source": [
    "class_0_std = np.std(data[y == 0, :-1], axis=0)\n",
    "class_1_std = np.std(data[y == 1, :-1], axis=0)\n",
    "class_0_means = np.mean(data[y == 0, :-1], axis=0)\n",
    "class_1_means = np.mean(data[y == 1, :-1], axis=0)\n",
    "\n",
    "class_0_std,class_1_std,class_0_means,class_1_means"
   ]
  },
  {
   "cell_type": "code",
   "execution_count": 33,
   "metadata": {
    "colab": {
     "base_uri": "https://localhost:8080/"
    },
    "id": "Jf3GlPA77A2O",
    "outputId": "f44fc359-ca89-4348-dbd1-5c47ffe0bdab"
   },
   "outputs": [
    {
     "name": "stdout",
     "output_type": "stream",
     "text": [
      "          Feature  Cluster 1 Mean  Cluster 2 Mean  Class 0 Mean (Female)  \\\n",
      "0          Salary     3129.214286     2660.391304            2799.192308   \n",
      "1  Housecare time      153.571429      244.956522             239.692308   \n",
      "2          Height      174.857143      159.347826             160.269231   \n",
      "3          Weight       79.214286       69.217391              70.384615   \n",
      "\n",
      "   Class 1 Mean (Male)  \n",
      "0              3041.12  \n",
      "1               148.08  \n",
      "2               175.76  \n",
      "3                79.20  \n"
     ]
    }
   ],
   "source": [
    "import pandas as pd\n",
    "\n",
    "feature_names = ['Salary', 'Housecare time', 'Height', 'Weight']\n",
    "\n",
    "comparison_df = pd.DataFrame({\n",
    "    'Feature': feature_names,\n",
    "    'Cluster 1 Mean': cluster_centers[0],\n",
    "    'Cluster 2 Mean': cluster_centers[1],\n",
    "    'Class 0 Mean (Female)': class_0_means,\n",
    "    'Class 1 Mean (Male)': class_1_means\n",
    "})\n",
    "\n",
    "print(comparison_df)\n"
   ]
  },
  {
   "cell_type": "markdown",
   "metadata": {
    "id": "MFhnxY2OYXlJ"
   },
   "source": [
    "#### Step 4: GMM (2p)\n",
    "\n",
    "Perform soft (Gaussian) clustering of the data. Compare the per class cluster means with means from sample data."
   ]
  },
  {
   "cell_type": "code",
   "execution_count": 11,
   "metadata": {
    "colab": {
     "base_uri": "https://localhost:8080/"
    },
    "id": "YxUhUoW_YXlK",
    "nbgrader": {
     "grade": false,
     "grade_id": "cell-0a6bbb1b6a347001",
     "locked": false,
     "schema_version": 3,
     "solution": true,
     "task": false
    },
    "outputId": "b2e01362-f136-4fac-8eff-d436b7421403"
   },
   "outputs": [
    {
     "name": "stdout",
     "output_type": "stream",
     "text": [
      "Cluster 0 means: [ 0.33838742 -0.58845739  0.64651054  0.21719821]\n",
      "Cluster 1 means: [-0.4834106   0.84065341 -0.92358648 -0.31028316]\n"
     ]
    }
   ],
   "source": [
    "# gmm = ...\n",
    "# print(\"Cluster means\", ...)\n",
    "n_components=2\n",
    "gmm = GaussianMixture(n_components=2, random_state=42)\n",
    "gmm.fit(scaled_x)\n",
    "labels = gmm.predict(scaled_x)\n",
    "print(\"Cluster 0 means:\", scaled_x[labels == 0].mean(axis=0))\n",
    "print(\"Cluster 1 means:\", scaled_x[labels == 1].mean(axis=0))\n"
   ]
  },
  {
   "cell_type": "code",
   "execution_count": 19,
   "metadata": {
    "colab": {
     "base_uri": "https://localhost:8080/"
    },
    "id": "oJR_VfVBm0tM",
    "outputId": "9009ee55-97b6-4f45-942d-50137d6e6d8c"
   },
   "outputs": [
    {
     "name": "stdout",
     "output_type": "stream",
     "text": [
      "GMM Cluster 0 means (original scale): [3110.53333333  158.23333333  174.7          77.86666667]\n",
      "GMM Cluster 1 means (original scale): [2642.42857143  247.          158.0952381    70.19047619]\n"
     ]
    }
   ],
   "source": [
    "gmm_cluster_0_means_orig = scaler.inverse_transform(np.mean(scaled_x[labels == 0], axis=0).reshape(1, -1))\n",
    "gmm_cluster_1_means_orig = scaler.inverse_transform(np.mean(scaled_x[labels == 1], axis=0).reshape(1, -1))\n",
    "\n",
    "print(\"GMM Cluster 0 means (original scale):\", gmm_cluster_0_means_orig[0])\n",
    "print(\"GMM Cluster 1 means (original scale):\", gmm_cluster_1_means_orig[0])"
   ]
  },
  {
   "cell_type": "markdown",
   "metadata": {
    "id": "-zFffXHbYXlK"
   },
   "source": [
    "#### Step 5: Looking at the results (3p)\n",
    "\n",
    "Please answer in the cell below.\n",
    "\n",
    "1. What is the purpose of scaler.inverse_transform() call? Could you avoid it?\n",
    "2. Which set of mean values represents cluster of females? Does it match the label (0 / 1)? Should it match? Why / why not?\n",
    "3. Compare the statistics (means, stds etc) from clustered data with those calculated from real sample classes. Any noticable differences?"
   ]
  },
  {
   "cell_type": "markdown",
   "metadata": {
    "id": "1CpSbm--pU5N"
   },
   "source": [
    "1. scaler.invers_transform() is used to inverse the scaling applied to the data and bringing it back to the original scale. in this case the results and predictions are easier to interpret. If avoid it like what happend in step4 cell, the output are not readable and interpretable."
   ]
  },
  {
   "cell_type": "markdown",
   "metadata": {
    "id": "zJZqqvv_r_D9"
   },
   "source": [
    "2. Cluster 2 represents females (label 0), and Cluster 1 represents males (label 1). In my mind it should not match in general, because in this special example we have 2 clusters and in other datasets if we have more than 2 clusters this could interpret better."
   ]
  },
  {
   "cell_type": "markdown",
   "metadata": {
    "id": "A-VMgXQWxBnT"
   },
   "source": [
    "   3.There is just a little difference between Salaries and Housecare time in Cluster means and Class means, but not noticable ."
   ]
  }
 ],
 "metadata": {
  "celltoolbar": "Create Assignment",
  "colab": {
   "provenance": []
  },
  "kernelspec": {
   "display_name": "Python 3 (ipykernel)",
   "language": "python",
   "name": "python3"
  },
  "language_info": {
   "codemirror_mode": {
    "name": "ipython",
    "version": 3
   },
   "file_extension": ".py",
   "mimetype": "text/x-python",
   "name": "python",
   "nbconvert_exporter": "python",
   "pygments_lexer": "ipython3",
   "version": "3.12.3"
  }
 },
 "nbformat": 4,
 "nbformat_minor": 1
}
